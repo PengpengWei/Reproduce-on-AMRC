{
 "cells": [
  {
   "cell_type": "code",
   "execution_count": 1,
   "metadata": {},
   "outputs": [],
   "source": [
    "from sklearn import preprocessing\n",
    "from sklearn.preprocessing import MinMaxScaler\n",
    "import itertools\n",
    "import numpy as np\n",
    "import scipy.io\n",
    "import typing\n",
    "from reAMRC import reAMRC, data_reader, train_and_predict\n",
    "from sinusoidal_generator import sinGen\n",
    "import time"
   ]
  },
  {
   "cell_type": "code",
   "execution_count": 2,
   "metadata": {},
   "outputs": [],
   "source": [
    "mc_time = 100\n",
    "for i in range(mc_time):\n",
    "    sinGen(n_sample=150, filename=\"./data/synthetic/syn3_\" + str(i) + \".mat\", rndseed=i)"
   ]
  },
  {
   "cell_type": "code",
   "execution_count": 3,
   "metadata": {},
   "outputs": [
    {
     "name": "stdout",
     "output_type": "stream",
     "text": [
      "Experiment 0: Mistake rate: det=0.10067114093959731, rand=0.2483221476510067, time spent=9.222994804382324 sec\n",
      "Experiment 1: Mistake rate: det=0.09395973154362416, rand=0.31543624161073824, time spent=8.625308990478516 sec\n",
      "Experiment 2: Mistake rate: det=0.04697986577181208, rand=0.28187919463087246, time spent=9.536839962005615 sec\n"
     ]
    }
   ],
   "source": [
    "for i in range(mc_time, mc_time + mc_time):\n",
    "    start_time = time.time()\n",
    "    filename = \"./data/synthetic/syn3_\" + str(i-mc_time) + \".mat\"\n",
    "    X, Y = data_reader(filename)\n",
    "    myAMRC = reAMRC(X, Y, feature_map=\"linear\", order=1, normalized=False, rndseed=i)\n",
    "    train_and_predict(myAMRC)\n",
    "    end_time = time.time()\n",
    "    print(\"Experiment {}: Mistake rate: det={}, rand={}, time spent={} sec\".format(i - mc_time, myAMRC.mistakes_det / (myAMRC.n_sample-1), myAMRC.mistakes_rnd / (myAMRC.n_sample-1), end_time - start_time))\n",
    "    myAMRC.savemat(\"./results/synthetic/syn3_\" + str(i-mc_time) + \"_result.mat\")\n"
   ]
  },
  {
   "cell_type": "code",
   "execution_count": null,
   "metadata": {},
   "outputs": [],
   "source": []
  }
 ],
 "metadata": {
  "kernelspec": {
   "display_name": "Python 3.9.13 ('proj553')",
   "language": "python",
   "name": "python3"
  },
  "language_info": {
   "codemirror_mode": {
    "name": "ipython",
    "version": 3
   },
   "file_extension": ".py",
   "mimetype": "text/x-python",
   "name": "python",
   "nbconvert_exporter": "python",
   "pygments_lexer": "ipython3",
   "version": "3.9.13"
  },
  "orig_nbformat": 4,
  "vscode": {
   "interpreter": {
    "hash": "52cc4bfb5953eb86f647bca08b319852ea70b2c29e47eea29b5a0a2789da4b3e"
   }
  }
 },
 "nbformat": 4,
 "nbformat_minor": 2
}
