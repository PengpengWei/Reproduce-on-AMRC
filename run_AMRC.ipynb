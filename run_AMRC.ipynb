{
 "cells": [
  {
   "cell_type": "code",
   "execution_count": 1,
   "metadata": {},
   "outputs": [],
   "source": [
    "from sklearn import preprocessing\n",
    "from sklearn.preprocessing import MinMaxScaler\n",
    "import itertools\n",
    "import numpy as np\n",
    "import scipy.io\n",
    "import typing\n",
    "from reAMRC import reAMRC, data_reader, train_and_predict\n",
    "import time"
   ]
  },
  {
   "cell_type": "code",
   "execution_count": 2,
   "metadata": {},
   "outputs": [
    {
     "name": "stdout",
     "output_type": "stream",
     "text": [
      "Mistake rate: det=0.30430430430430433, rand=0.33233233233233234, time spent=234.5886790752411 sec\n",
      "Pause\n"
     ]
    }
   ],
   "source": [
    "start_time = time.time()\n",
    "filename = \"german\"\n",
    "X, Y = data_reader(\"./data/\" + filename + \".mat\")\n",
    "myAMRC = reAMRC(X, Y, feature_map=\"RFF\", order=1)\n",
    "x = X[0,:]\n",
    "y = Y[0,:]\n",
    "# fvec = myAMRC.feature_vector(x,y)\n",
    "train_and_predict(myAMRC)\n",
    "end_time = time.time()\n",
    "print(\"Mistake rate: det={}, rand={}, time spent={} sec\".format(myAMRC.mistakes_det / (myAMRC.n_sample-1), myAMRC.mistakes_rnd / (myAMRC.n_sample-1), end_time - start_time))\n",
    "myAMRC.savemat(\"./results/\" + filename + \"_\" + str(myAMRC.rndseed) + \".mat\")\n",
    "print(\"Pause\")"
   ]
  },
  {
   "cell_type": "code",
   "execution_count": null,
   "metadata": {},
   "outputs": [],
   "source": []
  }
 ],
 "metadata": {
  "kernelspec": {
   "display_name": "Python 3.9.13 ('proj553')",
   "language": "python",
   "name": "python3"
  },
  "language_info": {
   "codemirror_mode": {
    "name": "ipython",
    "version": 3
   },
   "file_extension": ".py",
   "mimetype": "text/x-python",
   "name": "python",
   "nbconvert_exporter": "python",
   "pygments_lexer": "ipython3",
   "version": "3.9.13"
  },
  "orig_nbformat": 4,
  "vscode": {
   "interpreter": {
    "hash": "52cc4bfb5953eb86f647bca08b319852ea70b2c29e47eea29b5a0a2789da4b3e"
   }
  }
 },
 "nbformat": 4,
 "nbformat_minor": 2
}
