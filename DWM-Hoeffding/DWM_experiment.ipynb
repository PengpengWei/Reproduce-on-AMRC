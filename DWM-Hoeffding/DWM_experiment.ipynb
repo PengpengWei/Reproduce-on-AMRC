{
 "cells": [
  {
   "cell_type": "code",
   "execution_count": 1,
   "metadata": {},
   "outputs": [],
   "source": [
    "from skmultiflow.trees import HoeffdingTreeClassifier\n",
    "import numpy as np\n",
    "import scipy.io \n",
    "from dwm_hoeffding import *"
   ]
  },
  {
   "cell_type": "code",
   "execution_count": 2,
   "metadata": {},
   "outputs": [],
   "source": [
    "data = scipy.io.loadmat(\"usenet1.mat\")\n",
    "X, Y = data['X'].astype('float64'), data['Y']\n",
    "preds, mistakes = dwm_hoeffding(X, Y, n_classes=2, n_chunks=10, beta=0.5, thresh=0.001)"
   ]
  },
  {
   "cell_type": "code",
   "execution_count": 3,
   "metadata": {},
   "outputs": [],
   "source": [
    "mdict = {'preds': preds, 'mistakes': mistakes}\n",
    "scipy.io.savemat(\"usenet1_dwm.mat\", mdict)"
   ]
  },
  {
   "cell_type": "code",
   "execution_count": 6,
   "metadata": {},
   "outputs": [],
   "source": [
    "data = scipy.io.loadmat(\"german.mat\")\n",
    "X, Y = data['X'].astype('float64'), data['Y']\n",
    "preds, mistakes = dwm_hoeffding(X, Y, n_classes=2, n_chunks=10, beta=0.5, thresh=0.001)"
   ]
  },
  {
   "cell_type": "code",
   "execution_count": 7,
   "metadata": {},
   "outputs": [],
   "source": [
    "mdict = {'preds': preds, 'mistakes': mistakes}\n",
    "scipy.io.savemat(\"german_dwm.mat\", mdict)"
   ]
  },
  {
   "cell_type": "code",
   "execution_count": 2,
   "metadata": {},
   "outputs": [],
   "source": [
    "data = scipy.io.loadmat(\"spam_data.mat\")\n",
    "X, Y = data['X'].astype('float64'), data['Y']\n",
    "preds, mistakes = dwm_hoeffding(X, Y, n_classes=2, n_chunks=10, beta=0.5, thresh=0.001)\n",
    "\n",
    "mdict = {'preds': preds, 'mistakes': mistakes}\n",
    "scipy.io.savemat(\"spam_dwm.mat\", mdict)"
   ]
  },
  {
   "cell_type": "code",
   "execution_count": null,
   "metadata": {},
   "outputs": [],
   "source": []
  }
 ],
 "metadata": {
  "kernelspec": {
   "display_name": "Python 3.9.13 ('proj553')",
   "language": "python",
   "name": "python3"
  },
  "language_info": {
   "codemirror_mode": {
    "name": "ipython",
    "version": 3
   },
   "file_extension": ".py",
   "mimetype": "text/x-python",
   "name": "python",
   "nbconvert_exporter": "python",
   "pygments_lexer": "ipython3",
   "version": "3.9.13"
  },
  "orig_nbformat": 4,
  "vscode": {
   "interpreter": {
    "hash": "52cc4bfb5953eb86f647bca08b319852ea70b2c29e47eea29b5a0a2789da4b3e"
   }
  }
 },
 "nbformat": 4,
 "nbformat_minor": 2
}
